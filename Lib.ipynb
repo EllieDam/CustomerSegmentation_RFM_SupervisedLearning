{
 "cells": [
  {
   "cell_type": "code",
   "execution_count": 1,
   "metadata": {
    "colab": {
     "base_uri": "https://localhost:8080/"
    },
    "executionInfo": {
     "elapsed": 3312,
     "status": "ok",
     "timestamp": 1646031306314,
     "user": {
      "displayName": "Phuong Dam",
      "photoUrl": "https://lh3.googleusercontent.com/a/default-user=s64",
      "userId": "01072403895711103873"
     },
     "user_tz": -420
    },
    "id": "umIRFcF5yj0t",
    "outputId": "35a6ce56-7271-4916-f6f4-bb407c634cfa"
   },
   "outputs": [],
   "source": [
    "# !pip install squarify"
   ]
  },
  {
   "cell_type": "code",
   "execution_count": 2,
   "metadata": {
    "executionInfo": {
     "elapsed": 15,
     "status": "ok",
     "timestamp": 1646031306315,
     "user": {
      "displayName": "Phuong Dam",
      "photoUrl": "https://lh3.googleusercontent.com/a/default-user=s64",
      "userId": "01072403895711103873"
     },
     "user_tz": -420
    },
    "id": "O7kbCSTIyZqX"
   },
   "outputs": [],
   "source": [
    "import matplotlib\n",
    "import matplotlib.pyplot as plt\n",
    "import seaborn as sns\n",
    "import squarify\n",
    "import pandas as pd\n",
    "import numpy as np"
   ]
  },
  {
   "cell_type": "code",
   "execution_count": 3,
   "metadata": {},
   "outputs": [],
   "source": [
    "def df_RMF_preprocessing(df):\n",
    "    # drop rows where Quantity < 0\n",
    "    df = df[df.Quantity >= 0]\n",
    "    # drop rows where CustomerID == null\n",
    "    df = df[df.CustomerID.notnull()]\n",
    "    # drop rows where UnitPrice < 0\n",
    "    df = df[df.UnitPrice >= 0]\n",
    "    # drop duplicated rows\n",
    "    df = df.drop_duplicates()\n",
    "    # Convert column 'InvoiceDate' to datetime datatype\n",
    "    df['InvoiceDate'] = pd.to_datetime(df['InvoiceDate'])\n",
    "    # convert InvoiceNo data type to integer\n",
    "    df.InvoiceNo = df.InvoiceNo.astype(int)\n",
    "    # Create new column 'Amount'\n",
    "    df['Amount'] = df['Quantity'] * df['UnitPrice']\n",
    "    # Get max date of dataframe\n",
    "    max_date = df['InvoiceDate'].max().date()\n",
    "    # Calculate R, F, M\n",
    "    Recency = lambda x: (max_date - x.max().date()).days\n",
    "    Frequency = lambda x: x.nunique()\n",
    "    Monetary = lambda x: round(sum(x),2)\n",
    "\n",
    "    df_RFM = df.groupby('CustomerID').agg({'InvoiceDate' : Recency,\n",
    "                                        'InvoiceNo' : Frequency,\n",
    "                                        'Amount' : Monetary,\n",
    "                                        })\n",
    "    # Rename column names\n",
    "    df_RFM.columns = ['Recency', 'Frequency', 'Monetary']\n",
    "    df_RFM = df_RFM.sort_values('Monetary', ascending=False)\n",
    "    return df_RFM"
   ]
  },
  {
   "cell_type": "code",
   "execution_count": 10,
   "metadata": {},
   "outputs": [],
   "source": [
    "def visualization_countplot(count):\n",
    "    fig, ax =  plt.subplots()\n",
    "    ax.bar(count.index, count.values, color='lightskyblue')\n",
    "    for container in ax.containers:\n",
    "        ax.bar_label(container)\n",
    "    plt.xticks(rotation=90)\n",
    "    plt.xlabel('Cluster')\n",
    "    plt.ylabel('Number of Customers')\n",
    "    plt.show()"
   ]
  },
  {
   "cell_type": "code",
   "execution_count": 4,
   "metadata": {},
   "outputs": [],
   "source": [
    "# Calculate average values for each GMM_segment, and return a size of each segment \n",
    "def create_df_agg(df, groupby_col):\n",
    "    df.R = df.R.astype(int)\n",
    "    df.F = df.F.astype(int)\n",
    "    df.M = df.M.astype(int)\n",
    "    \n",
    "    df_agg = df.groupby(groupby_col).agg({\n",
    "      'Recency': 'mean',\n",
    "      'Frequency': 'mean',\n",
    "      'Monetary': 'mean',\n",
    "      'R': 'mean',\n",
    "      'F': 'mean',\n",
    "      'M': ['mean', 'count']}).round(0)\n",
    "\n",
    "    df_agg.columns = df_agg.columns.droplevel()\n",
    "    df_agg.columns = ['RecencyMean','FrequencyMean','MonetaryMean', 'RMean','FMean','MMean','Count']\n",
    "    df_agg['Percent'] = round((df_agg['Count']/df_agg.Count.sum())*100, 2)\n",
    "\n",
    "    # Reset the index\n",
    "    df_agg = df_agg.reset_index()\n",
    "    \n",
    "    return df_agg"
   ]
  },
  {
   "cell_type": "code",
   "execution_count": 5,
   "metadata": {
    "executionInfo": {
     "elapsed": 10,
     "status": "ok",
     "timestamp": 1646031306316,
     "user": {
      "displayName": "Phuong Dam",
      "photoUrl": "https://lh3.googleusercontent.com/a/default-user=s64",
      "userId": "01072403895711103873"
     },
     "user_tz": -420
    },
    "id": "XXQOe4YYyWQQ"
   },
   "outputs": [],
   "source": [
    "# Visualization - Treemap\n",
    "import matplotlib\n",
    "def treemap_customer_segmentation(df_agg,font_size):\n",
    "    #Create our plot and resize it.\n",
    "    fig = plt.gcf()\n",
    "    ax = fig.add_subplot()\n",
    "    fig.set_size_inches(15, 9)\n",
    "\n",
    "    # create a color palette, mapped to these values\n",
    "    cmap = matplotlib.cm.rainbow\n",
    "    norm = matplotlib.colors.Normalize(vmin=min(df_agg['Count']), vmax=max(df_agg['Count']))\n",
    "    colors = [cmap(norm(value)) for value in df_agg['Count']]\n",
    "\n",
    "    squarify.plot(sizes=df_agg['Count'],\n",
    "                text_kwargs={'fontsize':font_size,'weight':'bold', 'fontname':\"sans serif\"},\n",
    "                color=colors,\n",
    "                label=['Cluster {:.0f} \\n{:.0f} days \\n{:.0f} orders \\n{:.0f} $ \\n{:.0f} customers ({}%)'.format(*df_agg.iloc[i])\n",
    "                        for i in range(0, len(df_agg))], alpha=0.5 )\n",
    "\n",
    "\n",
    "    plt.title(\"Customers Segments\",fontsize=26,fontweight=\"bold\", loc='left')\n",
    "    plt.axis('off')\n",
    "\n",
    "    # plt.savefig('RFM Segments.png')\n",
    "    plt.show()"
   ]
  },
  {
   "cell_type": "code",
   "execution_count": null,
   "metadata": {},
   "outputs": [],
   "source": [
    "# Visualization - Treemap\n",
    "import matplotlib\n",
    "def treemap_customer_segmentation_rfm(df_agg,font_size):\n",
    "    #Create our plot and resize it.\n",
    "    fig = plt.gcf()\n",
    "    ax = fig.add_subplot()\n",
    "    fig.set_size_inches(15, 9)\n",
    "\n",
    "    # create a color palette, mapped to these values\n",
    "    cmap = matplotlib.cm.rainbow\n",
    "    norm = matplotlib.colors.Normalize(vmin=min(df_agg['Count']), vmax=max(df_agg['Count']))\n",
    "    colors = [cmap(norm(value)) for value in df_agg['Count']]\n",
    "\n",
    "    squarify.plot(sizes=df_agg['Count'],\n",
    "                text_kwargs={'fontsize':font_size,'weight':'bold', 'fontname':\"sans serif\"},\n",
    "                color=colors,\n",
    "                label=['{} \\n{:.0f} days \\n{:.0f} orders \\n{:.0f} $ \\n{:.0f} customers ({}%)'.format(*df_agg.iloc[i])\n",
    "                        for i in range(0, len(df_agg))], alpha=0.5 )\n",
    "\n",
    "\n",
    "    plt.title(\"Customers Segments\",fontsize=26,fontweight=\"bold\", loc='left')\n",
    "    plt.axis('off')\n",
    "\n",
    "    # plt.savefig('RFM Segments.png')\n",
    "    plt.show()"
   ]
  },
  {
   "cell_type": "code",
   "execution_count": 6,
   "metadata": {},
   "outputs": [],
   "source": [
    "def drop_outliers(data_RFM):\n",
    "    max_m = data_RFM['Monetary'].mean() + (3*data_RFM['Monetary'].std())\n",
    "    max_f = data_RFM['Frequency'].mean() + (3*data_RFM['Frequency'].std())\n",
    "    max_r = data_RFM['Recency'].mean() + (3*data_RFM['Recency'].std())\n",
    "    data_RFM_no = data_RFM[(data_RFM['Monetary'] < max_m)]                   \n",
    "    data_RFM_no = data_RFM_no[(data_RFM_no['Frequency'] < max_f)]\n",
    "    data_RFM_no = data_RFM_no[(data_RFM_no['Recency'] < max_r)]\n",
    "    data_outlier = data_RFM[~data_RFM.index.isin(data_RFM_no.index)]\n",
    "    return data_RFM_no, data_outlier, max_m, max_f, max_r"
   ]
  },
  {
   "cell_type": "code",
   "execution_count": 7,
   "metadata": {},
   "outputs": [],
   "source": [
    "def elite_regular_ghost_group(data_RFM, data_outlier, max_m, max_f, max_r, Monetary_mean):\n",
    "    high_spenders = data_RFM[data_RFM['Monetary'] >= max_m]\n",
    "    active_spenders = data_RFM[(data_RFM['Frequency'] >= max_f) & (data_RFM['Monetary'] >= Monetary_mean)]\n",
    "    elite = pd.concat([high_spenders, active_spenders])\n",
    "    elite = elite.drop_duplicates()\n",
    "    regular = data_RFM[(data_RFM['Frequency'] >= max_f) & (data_RFM['Monetary'] < Monetary_mean)]\n",
    "    ghost = data_RFM[data_RFM['Recency'] >= max_r]\n",
    "    elite = elite[~elite.index.isin(ghost.index)]\n",
    "    return elite, regular, ghost"
   ]
  },
  {
   "cell_type": "code",
   "execution_count": 8,
   "metadata": {},
   "outputs": [],
   "source": [
    "def drop_outliers_predict(data_RFM, max_m, max_f, max_r):\n",
    "    data_RFM_no = data_RFM[(data_RFM['Monetary'] < max_m)]                   \n",
    "    data_RFM_no = data_RFM_no[(data_RFM_no['Frequency'] < max_f)]\n",
    "    data_RFM_no = data_RFM_no[(data_RFM_no['Recency'] < max_r)]\n",
    "    data_outlier = data_RFM[~data_RFM.index.isin(data_RFM_no.index)]\n",
    "    return data_RFM_no, data_outlier"
   ]
  },
  {
   "cell_type": "code",
   "execution_count": 9,
   "metadata": {},
   "outputs": [],
   "source": [
    "# Count outliers: lowoutliers, highoutliers, nonoutliers\n",
    "\n",
    "def count_outliers(data_RFM):\n",
    "  outliers = {}                 # lowoutliers, highoutliers, nonoutliers\n",
    "  for i in range(data_RFM.shape[1]):\n",
    "    min_t = data_RFM[data_RFM.columns[i]].mean() - (3*data_RFM[data_RFM.columns[i]].std())\n",
    "    max_t = data_RFM[data_RFM.columns[i]].mean() + (3*data_RFM[data_RFM.columns[i]].std())\n",
    "    lcount = 0\n",
    "    hcount = 0\n",
    "    for j in data_RFM[data_RFM.columns[i]]:\n",
    "        if j<min_t:\n",
    "            lcount += 1\n",
    "        if j>max_t:\n",
    "            hcount += 1\n",
    "#     outliers[data_RFM.columns[i]] = [lcount, hcount, data_RFM.shape[0] - lcount - hcount]\n",
    "        outliers[data_RFM.columns[i]] = lcount + hcount\n",
    "  return outliers"
   ]
  }
 ],
 "metadata": {
  "colab": {
   "authorship_tag": "ABX9TyOtAbdxSgHLjyvW0keswJ7g",
   "collapsed_sections": [],
   "name": "Lib.ipynb",
   "provenance": []
  },
  "kernelspec": {
   "display_name": "Python 3 (ipykernel)",
   "language": "python",
   "name": "python3"
  },
  "language_info": {
   "codemirror_mode": {
    "name": "ipython",
    "version": 3
   },
   "file_extension": ".py",
   "mimetype": "text/x-python",
   "name": "python",
   "nbconvert_exporter": "python",
   "pygments_lexer": "ipython3",
   "version": "3.8.12"
  }
 },
 "nbformat": 4,
 "nbformat_minor": 1
}
